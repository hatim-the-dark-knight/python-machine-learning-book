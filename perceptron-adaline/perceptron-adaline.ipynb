{
 "cells": [
  {
   "cell_type": "markdown",
   "id": "472c895f",
   "metadata": {},
   "source": [
    "# "
   ]
  },
  {
   "cell_type": "markdown",
   "id": "5a6336ad",
   "metadata": {},
   "source": [
    "# An object-oriented Perceptron"
   ]
  },
  {
   "cell_type": "code",
   "execution_count": 6,
   "id": "366435fc",
   "metadata": {},
   "outputs": [],
   "source": [
    "import numpy as np\n",
    "\n",
    "class Perceptron (object):\n",
    "    \"\"\"\n",
    "    Perceptron Classifier\n",
    "    ---------------------------\n",
    "    \n",
    "    Parameters:\n",
    "    \n",
    "    eta: float [Learning Rate]\n",
    "    n_iter: int [Passes over the training dataset]\n",
    "    random_state: int [Random number generator seed for random weight initialisation]\n",
    "    \n",
    "    Attributes:\n",
    "    \n",
    "    w_: 1d array [Weights after fitting]\n",
    "    errors_: list [No. of misclassifications (updates) in each epoch]\n",
    "    \"\"\"\n",
    "    \n",
    "    def __init__ (self, eta = 0.01, n_iter = 50, random_state = 1):\n",
    "        self.eta = eta\n",
    "        self.n_iter = n_iter\n",
    "        self.random_state = random_state\n",
    "        \n",
    "        \n",
    "    def fit (self, X, y):\n",
    "        \"\"\"\n",
    "        Fit training data\n",
    "        --------------------\n",
    "        \n",
    "        Parameters:\n",
    "        \n",
    "        X: {array-like}, shape = [n_examples, n_features]\n",
    "            Training vectors, where n_examples - no. of examples\n",
    "            & n_features - no. of features\n",
    "        y: array-like, shape = [n-examples]\n",
    "            Target values\n",
    "            \n",
    "        Returns:\n",
    "        \n",
    "        self: object\n",
    "        \"\"\"\n",
    "        rgen = np.random.RandomState (self.random_state)\n",
    "        self.w_ = rgen.normal (loc = 0.0, scale = 0.01, size = 1 + X.shape[1])\n",
    "        \n",
    "        self.errors_ = []\n",
    "        \n",
    "        for _ in range (self.n_iter):\n",
    "            errors = 0\n",
    "            for xi, target in zip (X, y):\n",
    "                update = self.eta * (target - self.predict (xi))\n",
    "                self.w_[1:] += update *xi\n",
    "                self.w_[0] += update\n",
    "                errors += int (update != 0.0)\n",
    "            self.errors_.append (errors)\n",
    "        return self\n",
    "    \n",
    "    def net_input (self, X):\n",
    "        \"\"\"Calculate net input\"\"\"\n",
    "        return np.dot (X, self.w_[1:]) + self.w_[0]\n",
    "    \n",
    "    def predict (self, X):\n",
    "        \"\"\"Return class label after unit step\"\"\"\n",
    "        return np.where (self.net_input (X) >= 0.0, 1, -1)\n",
    "        "
   ]
  },
  {
   "cell_type": "code",
   "execution_count": 7,
   "id": "7c53a931",
   "metadata": {},
   "outputs": [
    {
     "data": {
      "text/plain": [
       "0.0"
      ]
     },
     "execution_count": 7,
     "metadata": {},
     "output_type": "execute_result"
    }
   ],
   "source": [
    "v1 = np.array([1, 2, 3])\n",
    "v2 = 0.5 * v1\n",
    "np.arccos (v1.dot (v2) / (np.linalg.norm (v1) * np.linalg.norm (v2)))"
   ]
  },
  {
   "cell_type": "markdown",
   "id": "5be91a4d",
   "metadata": {},
   "source": [
    "# "
   ]
  },
  {
   "cell_type": "markdown",
   "id": "17380e44",
   "metadata": {},
   "source": [
    "# Training a Perceptron model on the iris dataset"
   ]
  },
  {
   "cell_type": "markdown",
   "id": "002c2da4",
   "metadata": {},
   "source": [
    "# "
   ]
  },
  {
   "cell_type": "markdown",
   "id": "e29b4880",
   "metadata": {},
   "source": [
    "# Importing iris dataset"
   ]
  },
  {
   "cell_type": "code",
   "execution_count": 8,
   "id": "24a3f46b",
   "metadata": {},
   "outputs": [
    {
     "name": "stdout",
     "output_type": "stream",
     "text": [
      "       0    1    2    3                4\n",
      "0    5.1  3.5  1.4  0.2      Iris-setosa\n",
      "1    4.9  3.0  1.4  0.2      Iris-setosa\n",
      "2    4.7  3.2  1.3  0.2      Iris-setosa\n",
      "3    4.6  3.1  1.5  0.2      Iris-setosa\n",
      "4    5.0  3.6  1.4  0.2      Iris-setosa\n",
      "5    5.4  3.9  1.7  0.4      Iris-setosa\n",
      "6    4.6  3.4  1.4  0.3      Iris-setosa\n",
      "7    5.0  3.4  1.5  0.2      Iris-setosa\n",
      "8    4.4  2.9  1.4  0.2      Iris-setosa\n",
      "9    4.9  3.1  1.5  0.1      Iris-setosa\n",
      "10   5.4  3.7  1.5  0.2      Iris-setosa\n",
      "11   4.8  3.4  1.6  0.2      Iris-setosa\n",
      "12   4.8  3.0  1.4  0.1      Iris-setosa\n",
      "13   4.3  3.0  1.1  0.1      Iris-setosa\n",
      "14   5.8  4.0  1.2  0.2      Iris-setosa\n",
      "15   5.7  4.4  1.5  0.4      Iris-setosa\n",
      "16   5.4  3.9  1.3  0.4      Iris-setosa\n",
      "17   5.1  3.5  1.4  0.3      Iris-setosa\n",
      "18   5.7  3.8  1.7  0.3      Iris-setosa\n",
      "19   5.1  3.8  1.5  0.3      Iris-setosa\n",
      "20   5.4  3.4  1.7  0.2      Iris-setosa\n",
      "21   5.1  3.7  1.5  0.4      Iris-setosa\n",
      "22   4.6  3.6  1.0  0.2      Iris-setosa\n",
      "23   5.1  3.3  1.7  0.5      Iris-setosa\n",
      "24   4.8  3.4  1.9  0.2      Iris-setosa\n",
      "25   5.0  3.0  1.6  0.2      Iris-setosa\n",
      "26   5.0  3.4  1.6  0.4      Iris-setosa\n",
      "27   5.2  3.5  1.5  0.2      Iris-setosa\n",
      "28   5.2  3.4  1.4  0.2      Iris-setosa\n",
      "29   4.7  3.2  1.6  0.2      Iris-setosa\n",
      "30   4.8  3.1  1.6  0.2      Iris-setosa\n",
      "31   5.4  3.4  1.5  0.4      Iris-setosa\n",
      "32   5.2  4.1  1.5  0.1      Iris-setosa\n",
      "33   5.5  4.2  1.4  0.2      Iris-setosa\n",
      "34   4.9  3.1  1.5  0.1      Iris-setosa\n",
      "35   5.0  3.2  1.2  0.2      Iris-setosa\n",
      "36   5.5  3.5  1.3  0.2      Iris-setosa\n",
      "37   4.9  3.1  1.5  0.1      Iris-setosa\n",
      "38   4.4  3.0  1.3  0.2      Iris-setosa\n",
      "39   5.1  3.4  1.5  0.2      Iris-setosa\n",
      "40   5.0  3.5  1.3  0.3      Iris-setosa\n",
      "41   4.5  2.3  1.3  0.3      Iris-setosa\n",
      "42   4.4  3.2  1.3  0.2      Iris-setosa\n",
      "43   5.0  3.5  1.6  0.6      Iris-setosa\n",
      "44   5.1  3.8  1.9  0.4      Iris-setosa\n",
      "45   4.8  3.0  1.4  0.3      Iris-setosa\n",
      "46   5.1  3.8  1.6  0.2      Iris-setosa\n",
      "47   4.6  3.2  1.4  0.2      Iris-setosa\n",
      "48   5.3  3.7  1.5  0.2      Iris-setosa\n",
      "49   5.0  3.3  1.4  0.2      Iris-setosa\n",
      "50   7.0  3.2  4.7  1.4  Iris-versicolor\n",
      "51   6.4  3.2  4.5  1.5  Iris-versicolor\n",
      "52   6.9  3.1  4.9  1.5  Iris-versicolor\n",
      "53   5.5  2.3  4.0  1.3  Iris-versicolor\n",
      "54   6.5  2.8  4.6  1.5  Iris-versicolor\n",
      "55   5.7  2.8  4.5  1.3  Iris-versicolor\n",
      "56   6.3  3.3  4.7  1.6  Iris-versicolor\n",
      "57   4.9  2.4  3.3  1.0  Iris-versicolor\n",
      "58   6.6  2.9  4.6  1.3  Iris-versicolor\n",
      "59   5.2  2.7  3.9  1.4  Iris-versicolor\n",
      "60   5.0  2.0  3.5  1.0  Iris-versicolor\n",
      "61   5.9  3.0  4.2  1.5  Iris-versicolor\n",
      "62   6.0  2.2  4.0  1.0  Iris-versicolor\n",
      "63   6.1  2.9  4.7  1.4  Iris-versicolor\n",
      "64   5.6  2.9  3.6  1.3  Iris-versicolor\n",
      "65   6.7  3.1  4.4  1.4  Iris-versicolor\n",
      "66   5.6  3.0  4.5  1.5  Iris-versicolor\n",
      "67   5.8  2.7  4.1  1.0  Iris-versicolor\n",
      "68   6.2  2.2  4.5  1.5  Iris-versicolor\n",
      "69   5.6  2.5  3.9  1.1  Iris-versicolor\n",
      "70   5.9  3.2  4.8  1.8  Iris-versicolor\n",
      "71   6.1  2.8  4.0  1.3  Iris-versicolor\n",
      "72   6.3  2.5  4.9  1.5  Iris-versicolor\n",
      "73   6.1  2.8  4.7  1.2  Iris-versicolor\n",
      "74   6.4  2.9  4.3  1.3  Iris-versicolor\n",
      "75   6.6  3.0  4.4  1.4  Iris-versicolor\n",
      "76   6.8  2.8  4.8  1.4  Iris-versicolor\n",
      "77   6.7  3.0  5.0  1.7  Iris-versicolor\n",
      "78   6.0  2.9  4.5  1.5  Iris-versicolor\n",
      "79   5.7  2.6  3.5  1.0  Iris-versicolor\n",
      "80   5.5  2.4  3.8  1.1  Iris-versicolor\n",
      "81   5.5  2.4  3.7  1.0  Iris-versicolor\n",
      "82   5.8  2.7  3.9  1.2  Iris-versicolor\n",
      "83   6.0  2.7  5.1  1.6  Iris-versicolor\n",
      "84   5.4  3.0  4.5  1.5  Iris-versicolor\n",
      "85   6.0  3.4  4.5  1.6  Iris-versicolor\n",
      "86   6.7  3.1  4.7  1.5  Iris-versicolor\n",
      "87   6.3  2.3  4.4  1.3  Iris-versicolor\n",
      "88   5.6  3.0  4.1  1.3  Iris-versicolor\n",
      "89   5.5  2.5  4.0  1.3  Iris-versicolor\n",
      "90   5.5  2.6  4.4  1.2  Iris-versicolor\n",
      "91   6.1  3.0  4.6  1.4  Iris-versicolor\n",
      "92   5.8  2.6  4.0  1.2  Iris-versicolor\n",
      "93   5.0  2.3  3.3  1.0  Iris-versicolor\n",
      "94   5.6  2.7  4.2  1.3  Iris-versicolor\n",
      "95   5.7  3.0  4.2  1.2  Iris-versicolor\n",
      "96   5.7  2.9  4.2  1.3  Iris-versicolor\n",
      "97   6.2  2.9  4.3  1.3  Iris-versicolor\n",
      "98   5.1  2.5  3.0  1.1  Iris-versicolor\n",
      "99   5.7  2.8  4.1  1.3  Iris-versicolor\n",
      "100  6.3  3.3  6.0  2.5   Iris-virginica\n",
      "101  5.8  2.7  5.1  1.9   Iris-virginica\n",
      "102  7.1  3.0  5.9  2.1   Iris-virginica\n",
      "103  6.3  2.9  5.6  1.8   Iris-virginica\n",
      "104  6.5  3.0  5.8  2.2   Iris-virginica\n",
      "105  7.6  3.0  6.6  2.1   Iris-virginica\n",
      "106  4.9  2.5  4.5  1.7   Iris-virginica\n",
      "107  7.3  2.9  6.3  1.8   Iris-virginica\n",
      "108  6.7  2.5  5.8  1.8   Iris-virginica\n",
      "109  7.2  3.6  6.1  2.5   Iris-virginica\n",
      "110  6.5  3.2  5.1  2.0   Iris-virginica\n",
      "111  6.4  2.7  5.3  1.9   Iris-virginica\n",
      "112  6.8  3.0  5.5  2.1   Iris-virginica\n",
      "113  5.7  2.5  5.0  2.0   Iris-virginica\n",
      "114  5.8  2.8  5.1  2.4   Iris-virginica\n",
      "115  6.4  3.2  5.3  2.3   Iris-virginica\n",
      "116  6.5  3.0  5.5  1.8   Iris-virginica\n",
      "117  7.7  3.8  6.7  2.2   Iris-virginica\n",
      "118  7.7  2.6  6.9  2.3   Iris-virginica\n",
      "119  6.0  2.2  5.0  1.5   Iris-virginica\n",
      "120  6.9  3.2  5.7  2.3   Iris-virginica\n",
      "121  5.6  2.8  4.9  2.0   Iris-virginica\n",
      "122  7.7  2.8  6.7  2.0   Iris-virginica\n",
      "123  6.3  2.7  4.9  1.8   Iris-virginica\n",
      "124  6.7  3.3  5.7  2.1   Iris-virginica\n",
      "125  7.2  3.2  6.0  1.8   Iris-virginica\n",
      "126  6.2  2.8  4.8  1.8   Iris-virginica\n",
      "127  6.1  3.0  4.9  1.8   Iris-virginica\n",
      "128  6.4  2.8  5.6  2.1   Iris-virginica\n",
      "129  7.2  3.0  5.8  1.6   Iris-virginica\n",
      "130  7.4  2.8  6.1  1.9   Iris-virginica\n",
      "131  7.9  3.8  6.4  2.0   Iris-virginica\n",
      "132  6.4  2.8  5.6  2.2   Iris-virginica\n",
      "133  6.3  2.8  5.1  1.5   Iris-virginica\n",
      "134  6.1  2.6  5.6  1.4   Iris-virginica\n",
      "135  7.7  3.0  6.1  2.3   Iris-virginica\n",
      "136  6.3  3.4  5.6  2.4   Iris-virginica\n",
      "137  6.4  3.1  5.5  1.8   Iris-virginica\n",
      "138  6.0  3.0  4.8  1.8   Iris-virginica\n",
      "139  6.9  3.1  5.4  2.1   Iris-virginica\n",
      "140  6.7  3.1  5.6  2.4   Iris-virginica\n",
      "141  6.9  3.1  5.1  2.3   Iris-virginica\n",
      "142  5.8  2.7  5.1  1.9   Iris-virginica\n",
      "143  6.8  3.2  5.9  2.3   Iris-virginica\n",
      "144  6.7  3.3  5.7  2.5   Iris-virginica\n",
      "145  6.7  3.0  5.2  2.3   Iris-virginica\n",
      "146  6.3  2.5  5.0  1.9   Iris-virginica\n",
      "147  6.5  3.0  5.2  2.0   Iris-virginica\n",
      "148  6.2  3.4  5.4  2.3   Iris-virginica\n",
      "149  5.9  3.0  5.1  1.8   Iris-virginica\n"
     ]
    }
   ],
   "source": [
    "import pandas as pd\n",
    "\n",
    "df = pd.read_csv ('iris.data', header = None, encoding = 'utf-8')\n",
    "\n",
    "print(df.to_string())"
   ]
  },
  {
   "cell_type": "code",
   "execution_count": 9,
   "id": "43a64162",
   "metadata": {},
   "outputs": [
    {
     "data": {
      "image/png": "[encoded data removed]",
      "text/plain": [
       "<Figure size 432x288 with 1 Axes>"
      ]
     },
     "metadata": {
      "needs_background": "light"
     },
     "output_type": "display_data"
    }
   ],
   "source": [
    "%matplotlib inline\n",
    "import matplotlib.pyplot as plt\n",
    "import numpy as np\n",
    "\n",
    "# select setosa and versicolor\n",
    "y = df.iloc[0:100, 4].values\n",
    "y = np.where (y == 'Iris-setosa', -1, 1)\n",
    "\n",
    "# print (y)\n",
    "\n",
    "# extract sepal length and petal length\n",
    "X = df.iloc[0:100, [0, 2]].values\n",
    "\n",
    "# print (X)\n",
    "\n",
    "# plot data\n",
    "plt.scatter (X[:50, 0], X[:50, 1], color = 'red', marker = 'o', label = 'setosa')\n",
    "plt.scatter (X[50:100, 0], X[50:100, 1], color = 'blue', marker = 'x', label = 'versicolor')\n",
    "plt.xlabel ('sepal length [cm]')\n",
    "plt.ylabel ('petal length [cm]')\n",
    "plt.legend (loc = 'upper left')\n",
    "plt.show ()"
   ]
  },
  {
   "cell_type": "code",
   "execution_count": 10,
   "id": "ee3c6976",
   "metadata": {},
   "outputs": [
    {
     "data": {
      "image/png": "[encoded data removed]",
      "text/plain": [
       "<Figure size 432x288 with 1 Axes>"
      ]
     },
     "metadata": {
      "needs_background": "light"
     },
     "output_type": "display_data"
    }
   ],
   "source": [
    "ppn = Perceptron(eta = 0.1, n_iter = 10)\n",
    "ppn.fit(X, y)\n",
    "\n",
    "plt.plot (range (1, len (ppn.errors_) + 1), ppn.errors_, marker = 'o')\n",
    "plt.xlabel ('epochs')\n",
    "plt.ylabel ('no. of updates')\n",
    "\n",
    "plt.show ()"
   ]
  },
  {
   "cell_type": "code",
   "execution_count": 20,
   "id": "4eff13bd",
   "metadata": {},
   "outputs": [],
   "source": [
    "from matplotlib.colors import ListedColormap\n",
    "def plot_decision_regions (X, y, classifier, resolution = 0.02):\n",
    "    #setup marker generator and color map\n",
    "    markers = ('s', 'o', 'o', '^', 'v')\n",
    "    colors = ('red', 'blue', 'lightgreen', 'gray', 'cyan')\n",
    "    cmap = ListedColormap (colors[: len (np.unique (y))])\n",
    "    \n",
    "    #plot the decision surface\n",
    "    x1_min, x1_max = X[:, 0].min() - 1, X[:, 0].max() + 1\n",
    "    x2_min, x2_max = X[:, 1].min() - 1, X[:, 1].max() + 1\n",
    "    \n",
    "    xx1, xx2 = np.meshgrid (np.arange (x1_min, x1_max, resolution), np.arange (x2_min, x2_max, resolution))\n",
    "    \n",
    "    z = classifier.predict (np.array ([xx1.ravel (), xx2.ravel ()]).T)\n",
    "    z = z.reshape (xx1.shape)\n",
    "    \n",
    "    plt.contourf (xx1, xx2, z, alpha = 0.3, cmap = cmap)\n",
    "    plt.xlim (xx1.min (), xx1.max ())\n",
    "    plt.ylim (xx2.min (), xx2.max ())\n",
    "    \n",
    "    #plot class examples\n",
    "    for idx, cl in enumerate (np.unique (y)):\n",
    "        plt.scatter (\n",
    "            x = X[y == cl, 0],\n",
    "            y = X[y == cl, 1],\n",
    "            alpha = 0.8,\n",
    "            c = colors[idx],\n",
    "            marker = markers[idx],\n",
    "            label = cl,\n",
    "            edgecolor = 'black')\n",
    "    "
   ]
  },
  {
   "cell_type": "code",
   "execution_count": 21,
   "id": "ded257b1",
   "metadata": {},
   "outputs": [
    {
     "data": {
      "image/png": "[encoded data removed]",
      "text/plain": [
       "<Figure size 432x288 with 1 Axes>"
      ]
     },
     "metadata": {
      "needs_background": "light"
     },
     "output_type": "display_data"
    }
   ],
   "source": [
    "plot_decision_regions (X, y, classifier = ppn)\n",
    "\n",
    "plt.xlabel ('sepal length [cm]')\n",
    "plt.ylabel ('petal length [cm]')\n",
    "plt.legend (loc = 'upper left')\n",
    "\n",
    "plt.show ()"
   ]
  },
  {
   "cell_type": "markdown",
   "id": "6d13e37b",
   "metadata": {},
   "source": [
    "# "
   ]
  },
  {
   "cell_type": "markdown",
   "id": "9ea34860",
   "metadata": {},
   "source": [
    "# Implementing Adaline in Python\n",
    "## "
   ]
  },
  {
   "cell_type": "code",
   "execution_count": 32,
   "id": "49ad48e3",
   "metadata": {},
   "outputs": [],
   "source": [
    "class AdalineGD (object):\n",
    "    \"\"\"\n",
    "    Adaptive Linear Neuron Classifier\n",
    "    \n",
    "    Parameters\n",
    "    --------------\n",
    "    eta: float \n",
    "        Learning rate (between 0.0 and 1.0)\n",
    "    n_iter: int\n",
    "        Pases over the training dataset\n",
    "    random_state: int\n",
    "        Random number generator seed for random weight initialization\n",
    "    \n",
    "    Attributes\n",
    "    -------------\n",
    "    w_: 1d-array\n",
    "        weights after fitting\n",
    "    cost_: list\n",
    "        Sum-of-squares cost function value in epoch\n",
    "    \n",
    "    \"\"\"\n",
    "    \n",
    "    def __init__ (self, eta = 0.01, n_iter = 50, random_state = 1):\n",
    "        self.eta = eta\n",
    "        self.n_iter = n_iter\n",
    "        self.random_state = random_state\n",
    "        \n",
    "        \n",
    "    def fit (self, X, y):\n",
    "        \"\"\"\n",
    "        Fit training data\n",
    "        \n",
    "        Parameters\n",
    "        --------------\n",
    "        X: {array-like}, shape = [n_examples, n_features]\n",
    "            Training vectors, where n_examples is the no. of examples and \n",
    "            n_features is the no. of features\n",
    "        y: {array-like}, shape = [n_examples]\n",
    "            Target values\n",
    "            \n",
    "        Returns\n",
    "        ----------\n",
    "        self: object\n",
    "        \n",
    "    \"\"\"\n",
    "        \n",
    "        rgen = np.random.RandomState (self.random_state)\n",
    "        self.w_ = rgen.normal (loc = 0.0, scale = 0.01, size = 1 + X.shape[1])\n",
    "        self.cost_ = []\n",
    "    \n",
    "        for i in range (self.n_iter):\n",
    "            net_input = self.net_input (X)\n",
    "            output = self.activation (net_input)\n",
    "            errors = (y - output)\n",
    "            self.w_[1:] += self.eta * X.T.dot (errors)\n",
    "            self.w_[0] += self.eta * errors.sum ()\n",
    "            cost = (errors ** 2).sum () / 2.0\n",
    "            self.cost_.append (cost)\n",
    "        return self\n",
    "    \n",
    "    \n",
    "    def net_input (self, X):\n",
    "        \"\"\"Calculate net input\"\"\"\n",
    "        return np.dot (X, self.w_[1:]) + self.w_[0]\n",
    "    \n",
    "    \n",
    "    def activation (self, X):\n",
    "        \"\"\"Compute linear activation\"\"\"\n",
    "        return X\n",
    "    \n",
    "    \n",
    "    def predict (self, X):\n",
    "        \"\"\"Return class label after unit step\"\"\"\n",
    "        return np.where (self.activation (self.net_input (X)) >= 0.0, 1, -1)\n",
    "    "
   ]
  },
  {
   "cell_type": "code",
   "execution_count": 38,
   "id": "18991b4e",
   "metadata": {},
   "outputs": [
    {
     "data": {
      "image/png": "[encoded data removed]",
      "text/plain": [
       "<Figure size 720x288 with 2 Axes>"
      ]
     },
     "metadata": {
      "needs_background": "light"
     },
     "output_type": "display_data"
    }
   ],
   "source": [
    "fig, ax = plt.subplots (nrows = 1, ncols = 2, figsize = (10, 4))\n",
    "ada1 = AdalineGD (n_iter = 10, eta = 0.01).fit (X, y)\n",
    "ax[0].plot (range (1, len (ada1.cost_) + 1), np.log10 (ada1.cost_), marker = 'o')\n",
    "ax[0].set_xlabel ('Epochs')\n",
    "ax[0].set_ylabel ('log (Sum-squared-error)')\n",
    "ax[0].set_title ('Adaline - Learning Rate 0.01')\n",
    "\n",
    "ada2 = AdalineGD (n_iter = 10, eta = 0.0001).fit (X, y)\n",
    "ax[1].plot (range (1, len (ada2.cost_) + 1 ), ada2.cost_, marker = 'o')\n",
    "ax[1].set_xlabel ('Epochs')\n",
    "ax[1].set_ylabel ('Sum-squared-error')\n",
    "ax[1].set_title ('Adaline - Learning Rate 0.0001')\n",
    "plt.show ()\n"
   ]
  },
  {
   "cell_type": "markdown",
   "id": "4cda36b1",
   "metadata": {},
   "source": [
    "### Improving gradient descent through feature scaling"
   ]
  },
  {
   "cell_type": "code",
   "execution_count": 41,
   "id": "2dae043a",
   "metadata": {},
   "outputs": [
    {
     "data": {
      "image/png": "[encoded data removed]",
      "text/plain": [
       "<Figure size 432x288 with 1 Axes>"
      ]
     },
     "metadata": {
      "needs_background": "light"
     },
     "output_type": "display_data"
    },
    {
     "data": {
      "image/png": "[encoded data removed]",
      "text/plain": [
       "<Figure size 432x288 with 1 Axes>"
      ]
     },
     "metadata": {
      "needs_background": "light"
     },
     "output_type": "display_data"
    }
   ],
   "source": [
    "\n",
    "X_std = np.copy (X)\n",
    "X_std[:, 0] = (X[:, 0] - X[:, 0].mean()) / X[:, 0].std ()\n",
    "X_std[:, 1] = (X[:, 1] - X[:, 1].mean()) / X[:, 1].std ()\n",
    "\n",
    "ada_gd = AdalineGD (n_iter = 15, eta = 0.01)\n",
    "ada_gd.fit (X_std, y)\n",
    "\n",
    "plot_decision_regions (X_std, y, classifier = ada_gd)\n",
    "plt.title ('Adaline - Gradient Descent')\n",
    "plt.xlabel ('sepal length [standardized]')\n",
    "plt.ylabel ('petal length [standardized]')\n",
    "plt.legend (loc = 'upper left')\n",
    "plt.tight_layout ()\n",
    "plt.show ()\n",
    "\n",
    "plt.plot (range (1, len (ada_gd.cost_) + 1), ada_gd.cost_, marker = 'o')\n",
    "plt.xlabel ('Epochs')\n",
    "plt.ylabel ('Sum-squared-error')\n",
    "plt.tight_layout ()\n",
    "plt.show ()\n"
   ]
  },
  {
   "cell_type": "markdown",
   "id": "0cb24bad",
   "metadata": {},
   "source": [
    "## Adaline using SGD"
   ]
  },
  {
   "cell_type": "code",
   "execution_count": 48,
   "id": "ce62c463",
   "metadata": {},
   "outputs": [],
   "source": [
    "\n",
    "class AdalineSGD (object):\n",
    "    \"\"\"\n",
    "    Adaptive Linear Neuron Classifier\n",
    "    \n",
    "    Parameters\n",
    "    ---------------\n",
    "    eta: float\n",
    "        Learning rate between 0.0 and 1.0\n",
    "    n_iter: int\n",
    "        Passes over the training dataset\n",
    "    shuffle: bool (default: true)\n",
    "        shuffles traing data every epoch if True to prevent cycles\n",
    "    random_state: int\n",
    "        Random number generator seed for random weight initialization.\n",
    "        \n",
    "    Attributes\n",
    "    -------------\n",
    "    w_: 1d-array\n",
    "        Weights after fiiting\n",
    "    cost_: list\n",
    "        Sum-of-squares cost function value averaged all training examples in each epoch\n",
    "        \n",
    "    \"\"\"\n",
    "    \n",
    "    def __init__ (self, eta = 0.01, n_iter = 10, shuffle = True, random_state = None):\n",
    "        self.eta = eta\n",
    "        self.n_iter = n_iter\n",
    "        self.w_initialized = False\n",
    "        self.shuffle = shuffle\n",
    "        self.random_state = random_state\n",
    "        \n",
    "        \n",
    "    def fit (self, X, y):\n",
    "        \"\"\"\n",
    "        Fit training data\n",
    "        \n",
    "        Parameters\n",
    "        --------------\n",
    "        X: {array-like}, shape = [n_examples, n_features]\n",
    "            Training vectors, where n_examples is the no. of examples and\n",
    "            n_features is the no. of features.\n",
    "        y: array-like, shape = [n_examples]\n",
    "            Targe values\n",
    "        \n",
    "        Returns\n",
    "        ----------\n",
    "        self: object\n",
    "        \n",
    "        \"\"\"\n",
    "        \n",
    "        self._initialize_weights (X.shape[1])\n",
    "        self.cost_ = []\n",
    "        for i in range (self.n_iter):\n",
    "            if self.shuffle:\n",
    "                X, y = self._shuffle (X, y)\n",
    "            cost = []\n",
    "            for xi, target in zip (X, y):\n",
    "                cost.append (self._update_weights (xi, target))\n",
    "            avg_cost = sum (cost) / len (y)\n",
    "            self.cost_.append (avg_cost)\n",
    "        return self\n",
    "    \n",
    "    \n",
    "    def partial_fit (self, X, y):\n",
    "        \"\"\"Fit training data without reinintializing the weights\"\"\"\n",
    "        if not self.w_initialized:\n",
    "            self._initialize_weights (X.shape[1])\n",
    "        if y.ravel ().shape[0] > 1:\n",
    "            for xi, target in zip (X, y):\n",
    "                self._update_weights (xi, target)\n",
    "        else:\n",
    "            self._update_weights (X, y)\n",
    "        return self\n",
    "    \n",
    "    \n",
    "    def _shuffle (self, X, y):\n",
    "        \"\"\"Shuffle training data\"\"\"\n",
    "        r = self.rgen.permutation (len (y))\n",
    "        return X[r], y[r]\n",
    "    \n",
    "    \n",
    "    def _initialize_weights (self, m):\n",
    "        \"\"\"Initialize weights to small random numbers\"\"\"\n",
    "        self.rgen = np.random.RandomState (self.random_state)\n",
    "        self.w_ = self.rgen.normal (loc = 0.0, scale = 0.01, size = 1 + m)\n",
    "        self.w_initialized = True\n",
    "        \n",
    "        \n",
    "    def _update_weights (self, xi, target):\n",
    "        \"\"\"Apply Adaline learning rule to update the weights\"\"\"\n",
    "        output = self.activation (self.net_input (xi))\n",
    "        error = (target - output)\n",
    "        self.w_[1:] += self.eta * xi.dot (error)\n",
    "        self.w_[0:] += self.eta * error\n",
    "        cost = 0.5 * error**2\n",
    "        return cost\n",
    "    \n",
    "    \n",
    "    def net_input (self, X):\n",
    "        \"\"\"Calculate net input\"\"\"\n",
    "        return np.dot (X, self.w_[1:]) + self.w_[0]\n",
    "    \n",
    "    \n",
    "    def activation (self, X):\n",
    "        \"\"\"Compute linear activation\"\"\"\n",
    "        return X\n",
    "    \n",
    "    \n",
    "    def predict (self, X):\n",
    "        \"\"\"Return class label after unit step\"\"\"\n",
    "        return np.where(self.activation(self.net_input (X)) >= 0.0, 1, -1)\n",
    "        \n",
    "        \n",
    "        "
   ]
  },
  {
   "cell_type": "code",
   "execution_count": 49,
   "id": "85efa111",
   "metadata": {},
   "outputs": [
    {
     "data": {
      "image/png": "[encoded data removed]",
      "text/plain": [
       "<Figure size 432x288 with 1 Axes>"
      ]
     },
     "metadata": {
      "needs_background": "light"
     },
     "output_type": "display_data"
    },
    {
     "data": {
      "image/png": "[encoded data removed]",
      "text/plain": [
       "<Figure size 432x288 with 1 Axes>"
      ]
     },
     "metadata": {
      "needs_background": "light"
     },
     "output_type": "display_data"
    }
   ],
   "source": [
    "\n",
    "ada_sgd = AdalineSGD (n_iter = 15, eta = 0.01, random_state =1)\n",
    "ada_sgd.fit (X_std, y)\n",
    "\n",
    "plot_decision_regions (X_std, y, classifier = ada_sgd)\n",
    "plt.title ('Adaline - Stochastic Gradient Descent')\n",
    "plt.xlabel ('sepal length [standardized]')\n",
    "plt.ylabel ('petal length [standardized]')\n",
    "plt.legend (loc = 'upper left')\n",
    "plt.tight_layout ()\n",
    "plt.show ()\n",
    "plt.plot (range (1, len (ada_sgd.cost_) + 1), ada_sgd.cost_, marker = 'o' )\n",
    "plt.xlabel ('Epochs')\n",
    "plt.ylabel ('Average cost')\n",
    "plt.tight_layout ()\n",
    "plt.show ()\n"
   ]
  },
  {
   "cell_type": "code",
   "execution_count": null,
   "id": "19de03bf",
   "metadata": {},
   "outputs": [],
   "source": []
  }
 ],
 "metadata": {
  "kernelspec": {
   "display_name": "Python 3 (ipykernel)",
   "language": "python",
   "name": "python3"
  },
  "language_info": {
   "codemirror_mode": {
    "name": "ipython",
    "version": 3
   },
   "file_extension": ".py",
   "mimetype": "text/x-python",
   "name": "python",
   "nbconvert_exporter": "python",
   "pygments_lexer": "ipython3",
   "version": "3.8.5"
  }
 },
 "nbformat": 4,
 "nbformat_minor": 5
}
